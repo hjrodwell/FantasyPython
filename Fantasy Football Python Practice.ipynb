{
 "cells": [
  {
   "cell_type": "markdown",
   "metadata": {},
   "source": [
    "# Practice Python with Fantasy Football\n",
    "\n",
    "Part 1 (https://www.fantasyfootballdatapros.com/blog/beginner/1)"
   ]
  },
  {
   "cell_type": "code",
   "execution_count": 1,
   "metadata": {},
   "outputs": [],
   "source": [
    "#2019 WR Catch Rates (Dictionaries)\n",
    "WRs = [{\n",
    "    \"name\": \"Michael Thomas\",\n",
    "    \"catches\": 149,\n",
    "    \"targets\": 185\n",
    "  },\n",
    "  {\n",
    "    \"name\": \"Julio Jones\",\n",
    "    \"catches\": 99,\n",
    "    \"targets\": 157\n",
    "  },\n",
    "  {\n",
    "    \"name\": \"Davante Adams\",\n",
    "    \"catches\": 83,\n",
    "    \"targets\": 127\n",
    "  }]"
   ]
  },
  {
   "cell_type": "code",
   "execution_count": 2,
   "metadata": {},
   "outputs": [
    {
     "name": "stdout",
     "output_type": "stream",
     "text": [
      "Davante Adams had a catch rate of 0.6535433070866141\n"
     ]
    }
   ],
   "source": [
    "#Print Results (Loop)\n",
    "for player in WRs:\n",
    "  name = player['name']\n",
    "  catches = player['catches']\n",
    "  targets = player['targets']\n",
    "  catch_rate = catches/targets\n",
    "print(name + ' had a catch rate of ' + str(catch_rate))"
   ]
  },
  {
   "cell_type": "code",
   "execution_count": null,
   "metadata": {},
   "outputs": [],
   "source": []
  },
  {
   "cell_type": "markdown",
   "metadata": {},
   "source": [
    "# Practice Python with Fantasy Football\n",
    "\n",
    "Part 2 (https://www.fantasyfootballdatapros.com/blog/beginner/2)"
   ]
  },
  {
   "cell_type": "code",
   "execution_count": 3,
   "metadata": {},
   "outputs": [],
   "source": [
    "#2019 RB Yards\n",
    "RBs = [{\n",
    " 'name': 'Aaron Jones',\n",
    " 'rushing_yds': 1084,\n",
    " 'rushing_att': 236\n",
    "}, \n",
    "{\n",
    " 'name': 'Derrick Henry',\n",
    " 'rushing_yds': 1540,\n",
    " 'rushing_att': 303\n",
    "}, \n",
    "{\n",
    " 'name': 'Mark Ingram',\n",
    " 'rushing_yds': 1018,\n",
    " 'rushing_att': 202\n",
    "}]"
   ]
  },
  {
   "cell_type": "code",
   "execution_count": 4,
   "metadata": {},
   "outputs": [
    {
     "name": "stdout",
     "output_type": "stream",
     "text": [
      "Aaron Jones had a yd per carry average of 4.593220338983051\n",
      "Derrick Henry had a yd per carry average of 5.082508250825082\n",
      "Mark Ingram had a yd per carry average of 5.03960396039604\n"
     ]
    }
   ],
   "source": [
    "#Print Results\n",
    "for player in RBs:\n",
    "  name = player.get('name', None)\n",
    "  rushing_yds = player.get('rushing_yds', None)\n",
    "  rushing_att = player.get('rushing_att', None)\n",
    "  if name and rushing_yds and rushing_att:\n",
    "    print(name + ' had a yd per carry average of ' + str(rushing_yds/rushing_att))"
   ]
  },
  {
   "cell_type": "code",
   "execution_count": null,
   "metadata": {},
   "outputs": [],
   "source": []
  },
  {
   "cell_type": "markdown",
   "metadata": {},
   "source": [
    "# Practice Python with Fantasy Football\n",
    "\n",
    "Part 3 (https://www.fantasyfootballdatapros.com/blog/beginner/3)"
   ]
  },
  {
   "cell_type": "code",
   "execution_count": 5,
   "metadata": {},
   "outputs": [
    {
     "data": {
      "text/html": [
       "<div>\n",
       "<style scoped>\n",
       "    .dataframe tbody tr th:only-of-type {\n",
       "        vertical-align: middle;\n",
       "    }\n",
       "\n",
       "    .dataframe tbody tr th {\n",
       "        vertical-align: top;\n",
       "    }\n",
       "\n",
       "    .dataframe thead th {\n",
       "        text-align: right;\n",
       "    }\n",
       "</style>\n",
       "<table border=\"1\" class=\"dataframe\">\n",
       "  <thead>\n",
       "    <tr style=\"text-align: right;\">\n",
       "      <th></th>\n",
       "      <th>Unnamed: 0</th>\n",
       "      <th>Player</th>\n",
       "      <th>Tm</th>\n",
       "      <th>Pos</th>\n",
       "      <th>Age</th>\n",
       "      <th>G</th>\n",
       "      <th>GS</th>\n",
       "      <th>Cmp</th>\n",
       "      <th>Att</th>\n",
       "      <th>Yds</th>\n",
       "      <th>...</th>\n",
       "      <th>FumblesLost</th>\n",
       "      <th>PassingYds</th>\n",
       "      <th>PassingTD</th>\n",
       "      <th>PassingAtt</th>\n",
       "      <th>RushingYds</th>\n",
       "      <th>RushingTD</th>\n",
       "      <th>RushingAtt</th>\n",
       "      <th>ReceivingYds</th>\n",
       "      <th>ReceivingTD</th>\n",
       "      <th>FantasyPoints</th>\n",
       "    </tr>\n",
       "  </thead>\n",
       "  <tbody>\n",
       "    <tr>\n",
       "      <th>0</th>\n",
       "      <td>0</td>\n",
       "      <td>Christian McCaffrey</td>\n",
       "      <td>CAR</td>\n",
       "      <td>RB</td>\n",
       "      <td>23.0</td>\n",
       "      <td>16.0</td>\n",
       "      <td>16.0</td>\n",
       "      <td>0.0</td>\n",
       "      <td>2.0</td>\n",
       "      <td>0.0</td>\n",
       "      <td>...</td>\n",
       "      <td>0.0</td>\n",
       "      <td>0.0</td>\n",
       "      <td>0.0</td>\n",
       "      <td>2.0</td>\n",
       "      <td>1387.0</td>\n",
       "      <td>15.0</td>\n",
       "      <td>287.0</td>\n",
       "      <td>1005.0</td>\n",
       "      <td>4.0</td>\n",
       "      <td>469.20</td>\n",
       "    </tr>\n",
       "    <tr>\n",
       "      <th>1</th>\n",
       "      <td>1</td>\n",
       "      <td>Lamar Jackson</td>\n",
       "      <td>BAL</td>\n",
       "      <td>QB</td>\n",
       "      <td>22.0</td>\n",
       "      <td>15.0</td>\n",
       "      <td>15.0</td>\n",
       "      <td>265.0</td>\n",
       "      <td>401.0</td>\n",
       "      <td>3127.0</td>\n",
       "      <td>...</td>\n",
       "      <td>2.0</td>\n",
       "      <td>3127.0</td>\n",
       "      <td>36.0</td>\n",
       "      <td>401.0</td>\n",
       "      <td>1206.0</td>\n",
       "      <td>7.0</td>\n",
       "      <td>176.0</td>\n",
       "      <td>0.0</td>\n",
       "      <td>0.0</td>\n",
       "      <td>415.68</td>\n",
       "    </tr>\n",
       "    <tr>\n",
       "      <th>2</th>\n",
       "      <td>2</td>\n",
       "      <td>Derrick Henry</td>\n",
       "      <td>TEN</td>\n",
       "      <td>RB</td>\n",
       "      <td>25.0</td>\n",
       "      <td>15.0</td>\n",
       "      <td>15.0</td>\n",
       "      <td>0.0</td>\n",
       "      <td>0.0</td>\n",
       "      <td>0.0</td>\n",
       "      <td>...</td>\n",
       "      <td>3.0</td>\n",
       "      <td>0.0</td>\n",
       "      <td>0.0</td>\n",
       "      <td>0.0</td>\n",
       "      <td>1540.0</td>\n",
       "      <td>16.0</td>\n",
       "      <td>303.0</td>\n",
       "      <td>206.0</td>\n",
       "      <td>2.0</td>\n",
       "      <td>294.60</td>\n",
       "    </tr>\n",
       "    <tr>\n",
       "      <th>3</th>\n",
       "      <td>3</td>\n",
       "      <td>Aaron Jones</td>\n",
       "      <td>GNB</td>\n",
       "      <td>RB</td>\n",
       "      <td>25.0</td>\n",
       "      <td>16.0</td>\n",
       "      <td>16.0</td>\n",
       "      <td>0.0</td>\n",
       "      <td>0.0</td>\n",
       "      <td>0.0</td>\n",
       "      <td>...</td>\n",
       "      <td>2.0</td>\n",
       "      <td>0.0</td>\n",
       "      <td>0.0</td>\n",
       "      <td>0.0</td>\n",
       "      <td>1084.0</td>\n",
       "      <td>16.0</td>\n",
       "      <td>236.0</td>\n",
       "      <td>474.0</td>\n",
       "      <td>3.0</td>\n",
       "      <td>314.80</td>\n",
       "    </tr>\n",
       "    <tr>\n",
       "      <th>4</th>\n",
       "      <td>4</td>\n",
       "      <td>Ezekiel Elliott</td>\n",
       "      <td>DAL</td>\n",
       "      <td>RB</td>\n",
       "      <td>24.0</td>\n",
       "      <td>16.0</td>\n",
       "      <td>16.0</td>\n",
       "      <td>0.0</td>\n",
       "      <td>0.0</td>\n",
       "      <td>0.0</td>\n",
       "      <td>...</td>\n",
       "      <td>2.0</td>\n",
       "      <td>0.0</td>\n",
       "      <td>0.0</td>\n",
       "      <td>0.0</td>\n",
       "      <td>1357.0</td>\n",
       "      <td>12.0</td>\n",
       "      <td>301.0</td>\n",
       "      <td>420.0</td>\n",
       "      <td>2.0</td>\n",
       "      <td>311.70</td>\n",
       "    </tr>\n",
       "  </tbody>\n",
       "</table>\n",
       "<p>5 rows × 28 columns</p>\n",
       "</div>"
      ],
      "text/plain": [
       "   Unnamed: 0               Player   Tm Pos   Age     G    GS    Cmp    Att  \\\n",
       "0           0  Christian McCaffrey  CAR  RB  23.0  16.0  16.0    0.0    2.0   \n",
       "1           1        Lamar Jackson  BAL  QB  22.0  15.0  15.0  265.0  401.0   \n",
       "2           2        Derrick Henry  TEN  RB  25.0  15.0  15.0    0.0    0.0   \n",
       "3           3          Aaron Jones  GNB  RB  25.0  16.0  16.0    0.0    0.0   \n",
       "4           4      Ezekiel Elliott  DAL  RB  24.0  16.0  16.0    0.0    0.0   \n",
       "\n",
       "      Yds  ...  FumblesLost  PassingYds  PassingTD  PassingAtt  RushingYds  \\\n",
       "0     0.0  ...          0.0         0.0        0.0         2.0      1387.0   \n",
       "1  3127.0  ...          2.0      3127.0       36.0       401.0      1206.0   \n",
       "2     0.0  ...          3.0         0.0        0.0         0.0      1540.0   \n",
       "3     0.0  ...          2.0         0.0        0.0         0.0      1084.0   \n",
       "4     0.0  ...          2.0         0.0        0.0         0.0      1357.0   \n",
       "\n",
       "   RushingTD  RushingAtt  ReceivingYds  ReceivingTD  FantasyPoints  \n",
       "0       15.0       287.0        1005.0          4.0         469.20  \n",
       "1        7.0       176.0           0.0          0.0         415.68  \n",
       "2       16.0       303.0         206.0          2.0         294.60  \n",
       "3       16.0       236.0         474.0          3.0         314.80  \n",
       "4       12.0       301.0         420.0          2.0         311.70  \n",
       "\n",
       "[5 rows x 28 columns]"
      ]
     },
     "execution_count": 5,
     "metadata": {},
     "output_type": "execute_result"
    }
   ],
   "source": [
    "#Import Libraries\n",
    "import pandas as pd\n",
    "csv_path = r'/Users/henryrodwell/Desktop/Data Science Projects/NFL2019.csv'\n",
    "\n",
    "#Load CV into Dataframe\n",
    "df = pd.read_csv(csv_path) \n",
    "df.head()"
   ]
  },
  {
   "cell_type": "code",
   "execution_count": 6,
   "metadata": {},
   "outputs": [
    {
     "name": "stdout",
     "output_type": "stream",
     "text": [
      "(620, 28)\n",
      "We have 620 players we can analyze for the 2019 season\n",
      "We have 28 columns of data we can analyze for the 2019 season\n"
     ]
    }
   ],
   "source": [
    "#Access Attributes\n",
    "print(df.shape)\n",
    "print('We have', df.shape[0], 'players we can analyze for the 2019 season')\n",
    "print('We have', df.shape[1], 'columns of data we can analyze for the 2019 season')"
   ]
  },
  {
   "cell_type": "code",
   "execution_count": 7,
   "metadata": {},
   "outputs": [
    {
     "data": {
      "text/plain": [
       "pandas.core.frame.DataFrame"
      ]
     },
     "execution_count": 7,
     "metadata": {},
     "output_type": "execute_result"
    }
   ],
   "source": [
    "#Class Info\n",
    "df.__class__"
   ]
  },
  {
   "cell_type": "code",
   "execution_count": 8,
   "metadata": {},
   "outputs": [
    {
     "data": {
      "text/plain": [
       "Index(['Unnamed: 0', 'Player', 'Tm', 'Pos', 'Age', 'G', 'GS', 'Cmp', 'Att',\n",
       "       'Yds', 'Int', 'Att.1', 'Yds.1', 'Tgt', 'Rec', 'Yds.2', 'Y/R', 'Fumbles',\n",
       "       'FumblesLost', 'PassingYds', 'PassingTD', 'PassingAtt', 'RushingYds',\n",
       "       'RushingTD', 'RushingAtt', 'ReceivingYds', 'ReceivingTD',\n",
       "       'FantasyPoints'],\n",
       "      dtype='object')"
      ]
     },
     "execution_count": 8,
     "metadata": {},
     "output_type": "execute_result"
    }
   ],
   "source": [
    "#Column Names\n",
    "df.columns"
   ]
  },
  {
   "cell_type": "code",
   "execution_count": null,
   "metadata": {},
   "outputs": [],
   "source": []
  },
  {
   "cell_type": "markdown",
   "metadata": {},
   "source": [
    "# Practice Python with Fantasy Football\n",
    "\n",
    "Part 4 (https://www.fantasyfootballdatapros.com/blog/beginner/4)"
   ]
  },
  {
   "cell_type": "code",
   "execution_count": 9,
   "metadata": {},
   "outputs": [],
   "source": [
    "df = df.loc[df['Pos'] == 'RB', ['Player', 'Tgt', 'RushingAtt', 'FantasyPoints']]\n",
    "df['Usage'] = df['Tgt'] + df['RushingAtt']"
   ]
  },
  {
   "cell_type": "markdown",
   "metadata": {},
   "source": [
    "The first part of our code following .loc[ (df['Pos'] == 'RB') is our \"row selector\". We are telling pandas that for each row in our DataFrame, only select those rows where the column value \"Pos\" is equal to \"RB\".he first part of our code following .loc[ (df['Pos'] == 'RB') is our \"row selector\". We are telling pandas that for each row in our DataFrame, only select those rows where the column value \"Pos\" is equal to \"RB\".\n",
    "\n",
    "The second part of our .loc is the column selector. We simply pass in a list of column names we'd like included in our final DataFrame. We are just telling pandas, \"Here are the columns we'd like included, exclude every column in our original DataFrame that is not in this list\". Notice the square brackets. We need to pass in a list.\n",
    "\n",
    "The second line is a bit less complicated. To set a new column in pandas, you simply use the syntax: \n",
    "\n",
    "*df['NewColumnName'] = df['ColumnOne'] + df['ColumnTwo'] - df['ColumnThree']* \n",
    "\n",
    "and so on and so on."
   ]
  },
  {
   "cell_type": "code",
   "execution_count": 10,
   "metadata": {},
   "outputs": [
    {
     "data": {
      "text/html": [
       "<div>\n",
       "<style scoped>\n",
       "    .dataframe tbody tr th:only-of-type {\n",
       "        vertical-align: middle;\n",
       "    }\n",
       "\n",
       "    .dataframe tbody tr th {\n",
       "        vertical-align: top;\n",
       "    }\n",
       "\n",
       "    .dataframe thead th {\n",
       "        text-align: right;\n",
       "    }\n",
       "</style>\n",
       "<table border=\"1\" class=\"dataframe\">\n",
       "  <thead>\n",
       "    <tr style=\"text-align: right;\">\n",
       "      <th></th>\n",
       "      <th>Player</th>\n",
       "      <th>Tgt</th>\n",
       "      <th>RushingAtt</th>\n",
       "      <th>FantasyPoints</th>\n",
       "      <th>Usage</th>\n",
       "    </tr>\n",
       "  </thead>\n",
       "  <tbody>\n",
       "    <tr>\n",
       "      <th>0</th>\n",
       "      <td>Christian McCaffrey</td>\n",
       "      <td>142.0</td>\n",
       "      <td>287.0</td>\n",
       "      <td>469.2</td>\n",
       "      <td>429.0</td>\n",
       "    </tr>\n",
       "    <tr>\n",
       "      <th>2</th>\n",
       "      <td>Derrick Henry</td>\n",
       "      <td>24.0</td>\n",
       "      <td>303.0</td>\n",
       "      <td>294.6</td>\n",
       "      <td>327.0</td>\n",
       "    </tr>\n",
       "    <tr>\n",
       "      <th>3</th>\n",
       "      <td>Aaron Jones</td>\n",
       "      <td>68.0</td>\n",
       "      <td>236.0</td>\n",
       "      <td>314.8</td>\n",
       "      <td>304.0</td>\n",
       "    </tr>\n",
       "    <tr>\n",
       "      <th>4</th>\n",
       "      <td>Ezekiel Elliott</td>\n",
       "      <td>71.0</td>\n",
       "      <td>301.0</td>\n",
       "      <td>311.7</td>\n",
       "      <td>372.0</td>\n",
       "    </tr>\n",
       "    <tr>\n",
       "      <th>5</th>\n",
       "      <td>Dalvin Cook</td>\n",
       "      <td>63.0</td>\n",
       "      <td>250.0</td>\n",
       "      <td>292.4</td>\n",
       "      <td>313.0</td>\n",
       "    </tr>\n",
       "  </tbody>\n",
       "</table>\n",
       "</div>"
      ],
      "text/plain": [
       "                Player    Tgt  RushingAtt  FantasyPoints  Usage\n",
       "0  Christian McCaffrey  142.0       287.0          469.2  429.0\n",
       "2        Derrick Henry   24.0       303.0          294.6  327.0\n",
       "3          Aaron Jones   68.0       236.0          314.8  304.0\n",
       "4      Ezekiel Elliott   71.0       301.0          311.7  372.0\n",
       "5          Dalvin Cook   63.0       250.0          292.4  313.0"
      ]
     },
     "execution_count": 10,
     "metadata": {},
     "output_type": "execute_result"
    }
   ],
   "source": [
    "df.head()"
   ]
  },
  {
   "cell_type": "code",
   "execution_count": null,
   "metadata": {},
   "outputs": [],
   "source": []
  },
  {
   "cell_type": "markdown",
   "metadata": {},
   "source": [
    "# Practice Python with Fantasy Football\n",
    "\n",
    "Part 5 (https://www.fantasyfootballdatapros.com/blog/beginner/5)"
   ]
  },
  {
   "cell_type": "code",
   "execution_count": 11,
   "metadata": {},
   "outputs": [
    {
     "data": {
      "text/html": [
       "<div>\n",
       "<style scoped>\n",
       "    .dataframe tbody tr th:only-of-type {\n",
       "        vertical-align: middle;\n",
       "    }\n",
       "\n",
       "    .dataframe tbody tr th {\n",
       "        vertical-align: top;\n",
       "    }\n",
       "\n",
       "    .dataframe thead th {\n",
       "        text-align: right;\n",
       "    }\n",
       "</style>\n",
       "<table border=\"1\" class=\"dataframe\">\n",
       "  <thead>\n",
       "    <tr style=\"text-align: right;\">\n",
       "      <th></th>\n",
       "      <th>Player</th>\n",
       "      <th>Tgt</th>\n",
       "      <th>RushingAtt</th>\n",
       "      <th>FantasyPoints</th>\n",
       "      <th>Usage</th>\n",
       "      <th>UsageRank</th>\n",
       "      <th>FantasyPointsRank</th>\n",
       "    </tr>\n",
       "  </thead>\n",
       "  <tbody>\n",
       "    <tr>\n",
       "      <th>0</th>\n",
       "      <td>Christian McCaffrey</td>\n",
       "      <td>142.0</td>\n",
       "      <td>287.0</td>\n",
       "      <td>469.2</td>\n",
       "      <td>429.0</td>\n",
       "      <td>1.0</td>\n",
       "      <td>1.0</td>\n",
       "    </tr>\n",
       "    <tr>\n",
       "      <th>4</th>\n",
       "      <td>Ezekiel Elliott</td>\n",
       "      <td>71.0</td>\n",
       "      <td>301.0</td>\n",
       "      <td>311.7</td>\n",
       "      <td>372.0</td>\n",
       "      <td>2.0</td>\n",
       "      <td>3.0</td>\n",
       "    </tr>\n",
       "    <tr>\n",
       "      <th>28</th>\n",
       "      <td>Leonard Fournette</td>\n",
       "      <td>100.0</td>\n",
       "      <td>265.0</td>\n",
       "      <td>259.4</td>\n",
       "      <td>365.0</td>\n",
       "      <td>3.0</td>\n",
       "      <td>7.0</td>\n",
       "    </tr>\n",
       "    <tr>\n",
       "      <th>8</th>\n",
       "      <td>Nick Chubb</td>\n",
       "      <td>49.0</td>\n",
       "      <td>298.0</td>\n",
       "      <td>255.2</td>\n",
       "      <td>347.0</td>\n",
       "      <td>4.0</td>\n",
       "      <td>8.0</td>\n",
       "    </tr>\n",
       "    <tr>\n",
       "      <th>2</th>\n",
       "      <td>Derrick Henry</td>\n",
       "      <td>24.0</td>\n",
       "      <td>303.0</td>\n",
       "      <td>294.6</td>\n",
       "      <td>327.0</td>\n",
       "      <td>5.0</td>\n",
       "      <td>5.0</td>\n",
       "    </tr>\n",
       "    <tr>\n",
       "      <th>17</th>\n",
       "      <td>Chris Carson</td>\n",
       "      <td>47.0</td>\n",
       "      <td>278.0</td>\n",
       "      <td>232.6</td>\n",
       "      <td>325.0</td>\n",
       "      <td>6.0</td>\n",
       "      <td>12.0</td>\n",
       "    </tr>\n",
       "    <tr>\n",
       "      <th>62</th>\n",
       "      <td>Le'Veon Bell</td>\n",
       "      <td>78.0</td>\n",
       "      <td>245.0</td>\n",
       "      <td>213.0</td>\n",
       "      <td>323.0</td>\n",
       "      <td>7.5</td>\n",
       "      <td>16.0</td>\n",
       "    </tr>\n",
       "    <tr>\n",
       "      <th>22</th>\n",
       "      <td>Joe Mixon</td>\n",
       "      <td>45.0</td>\n",
       "      <td>278.0</td>\n",
       "      <td>225.4</td>\n",
       "      <td>323.0</td>\n",
       "      <td>7.5</td>\n",
       "      <td>13.0</td>\n",
       "    </tr>\n",
       "    <tr>\n",
       "      <th>5</th>\n",
       "      <td>Dalvin Cook</td>\n",
       "      <td>63.0</td>\n",
       "      <td>250.0</td>\n",
       "      <td>292.4</td>\n",
       "      <td>313.0</td>\n",
       "      <td>9.0</td>\n",
       "      <td>6.0</td>\n",
       "    </tr>\n",
       "    <tr>\n",
       "      <th>3</th>\n",
       "      <td>Aaron Jones</td>\n",
       "      <td>68.0</td>\n",
       "      <td>236.0</td>\n",
       "      <td>314.8</td>\n",
       "      <td>304.0</td>\n",
       "      <td>10.0</td>\n",
       "      <td>2.0</td>\n",
       "    </tr>\n",
       "    <tr>\n",
       "      <th>20</th>\n",
       "      <td>Saquon Barkley</td>\n",
       "      <td>73.0</td>\n",
       "      <td>217.0</td>\n",
       "      <td>244.1</td>\n",
       "      <td>290.0</td>\n",
       "      <td>11.0</td>\n",
       "      <td>10.0</td>\n",
       "    </tr>\n",
       "    <tr>\n",
       "      <th>65</th>\n",
       "      <td>David Montgomery</td>\n",
       "      <td>35.0</td>\n",
       "      <td>242.0</td>\n",
       "      <td>170.4</td>\n",
       "      <td>277.0</td>\n",
       "      <td>12.0</td>\n",
       "      <td>24.0</td>\n",
       "    </tr>\n",
       "    <tr>\n",
       "      <th>48</th>\n",
       "      <td>Phillip Lindsay</td>\n",
       "      <td>48.0</td>\n",
       "      <td>224.0</td>\n",
       "      <td>197.7</td>\n",
       "      <td>272.0</td>\n",
       "      <td>13.5</td>\n",
       "      <td>19.0</td>\n",
       "    </tr>\n",
       "    <tr>\n",
       "      <th>23</th>\n",
       "      <td>Todd Gurley</td>\n",
       "      <td>49.0</td>\n",
       "      <td>223.0</td>\n",
       "      <td>217.4</td>\n",
       "      <td>272.0</td>\n",
       "      <td>13.5</td>\n",
       "      <td>14.0</td>\n",
       "    </tr>\n",
       "    <tr>\n",
       "      <th>35</th>\n",
       "      <td>Josh Jacobs</td>\n",
       "      <td>27.0</td>\n",
       "      <td>242.0</td>\n",
       "      <td>191.6</td>\n",
       "      <td>269.0</td>\n",
       "      <td>15.0</td>\n",
       "      <td>21.0</td>\n",
       "    </tr>\n",
       "  </tbody>\n",
       "</table>\n",
       "</div>"
      ],
      "text/plain": [
       "                 Player    Tgt  RushingAtt  FantasyPoints  Usage  UsageRank  \\\n",
       "0   Christian McCaffrey  142.0       287.0          469.2  429.0        1.0   \n",
       "4       Ezekiel Elliott   71.0       301.0          311.7  372.0        2.0   \n",
       "28    Leonard Fournette  100.0       265.0          259.4  365.0        3.0   \n",
       "8            Nick Chubb   49.0       298.0          255.2  347.0        4.0   \n",
       "2         Derrick Henry   24.0       303.0          294.6  327.0        5.0   \n",
       "17         Chris Carson   47.0       278.0          232.6  325.0        6.0   \n",
       "62         Le'Veon Bell   78.0       245.0          213.0  323.0        7.5   \n",
       "22            Joe Mixon   45.0       278.0          225.4  323.0        7.5   \n",
       "5           Dalvin Cook   63.0       250.0          292.4  313.0        9.0   \n",
       "3           Aaron Jones   68.0       236.0          314.8  304.0       10.0   \n",
       "20       Saquon Barkley   73.0       217.0          244.1  290.0       11.0   \n",
       "65     David Montgomery   35.0       242.0          170.4  277.0       12.0   \n",
       "48      Phillip Lindsay   48.0       224.0          197.7  272.0       13.5   \n",
       "23          Todd Gurley   49.0       223.0          217.4  272.0       13.5   \n",
       "35          Josh Jacobs   27.0       242.0          191.6  269.0       15.0   \n",
       "\n",
       "    FantasyPointsRank  \n",
       "0                 1.0  \n",
       "4                 3.0  \n",
       "28                7.0  \n",
       "8                 8.0  \n",
       "2                 5.0  \n",
       "17               12.0  \n",
       "62               16.0  \n",
       "22               13.0  \n",
       "5                 6.0  \n",
       "3                 2.0  \n",
       "20               10.0  \n",
       "65               24.0  \n",
       "48               19.0  \n",
       "23               14.0  \n",
       "35               21.0  "
      ]
     },
     "execution_count": 11,
     "metadata": {},
     "output_type": "execute_result"
    }
   ],
   "source": [
    "#Rank and Sort\n",
    "df['UsageRank'] = df['Usage'].rank(ascending=False)\n",
    "\n",
    "df['FantasyPointsRank'] = df['FantasyPoints'].rank(ascending=False)\n",
    "\n",
    "df.sort_values(by='UsageRank').head(15)"
   ]
  },
  {
   "cell_type": "markdown",
   "metadata": {},
   "source": [
    "In that first line, we are creating a new column based off another column (Usage) and finding each player's Usage rank. This method also takes a keyword argument.\n",
    "\n",
    "In the case of rank, one such argument it takes is ascending. If we specify that ascending is equal to False, we are telling Pandas that we want to rank the largest numbers in the column we are ranking higher.\n",
    "\n",
    "We repeat the same process for FantasyPoints. We repeat this process becuase we want to find gaps between Usage and Fantasy Points scored on the season.\n",
    "\n",
    "Finally, we use another method I talked about called sort_values. This method sorts our DataFrame by a certain column. By default, it sorts the columns by ascending order (smallest to largest). Since we are sorting via the rank column, this is exactly what we want. It takes in a keyword argument of by, so we can tell Pandas which column we'd like to sort on. (It also takes in an argument of ascending, in case you wanted to sort your DataFrame in descending order of a column. In this case, we don't.)"
   ]
  },
  {
   "cell_type": "code",
   "execution_count": null,
   "metadata": {},
   "outputs": [],
   "source": []
  },
  {
   "cell_type": "markdown",
   "metadata": {},
   "source": [
    "# Practice Python with Fantasy Football\n",
    "\n",
    "Part 6 (https://www.fantasyfootballdatapros.com/blog/beginner/6)"
   ]
  },
  {
   "cell_type": "code",
   "execution_count": 12,
   "metadata": {},
   "outputs": [
    {
     "data": {
      "text/plain": [
       "<matplotlib.axes._subplots.AxesSubplot at 0x119bc50d0>"
      ]
     },
     "execution_count": 12,
     "metadata": {},
     "output_type": "execute_result"
    },
    {
     "data": {
      "image/png": "[encoded data removed]",
      "text/plain": [
       "<Figure size 432x288 with 1 Axes>"
      ]
     },
     "metadata": {},
     "output_type": "display_data"
    }
   ],
   "source": [
    "#Visualise Results\n",
    "from matplotlib import pyplot as plt\n",
    "plt.style.use('ggplot')\n",
    "df.plot(x='Usage', y='FantasyPoints', kind='scatter')"
   ]
  },
  {
   "cell_type": "markdown",
   "metadata": {},
   "source": [
    "In the first line we are telling Python \"from matplotlib import the pyplot part, and let us refer to pyplot as plt for the rest of our code.\"\n",
    "\n",
    "Inside the pyplot module, there is another submodule known as *style* which is specifically meant to deal with styling visualizations. Inside the style sub-module is a function named *use* which allows us to use a specific style for a visualization. The list of styles that can be used (or list of arguments we can pass to this use function) can be found in the matplotlib docs (for example, another good argument you could use for this function is fivethirtyeight). ggplot here makes our background-color for our visualization grey and our points blue. \n",
    "\n",
    "Lastly, that last line is all of the code necessary to draw up our visualization for our data. Pandas DataFrame's have a built-in method called plot which allows us to plot data directly off our DataFrame. Our x and y value is telling Pandas which parts of our df we'd like to plot. In this case, we want to plot Usage and FantasyPoints. Pandas expects that these values are in the form of column names that exist within the df."
   ]
  },
  {
   "cell_type": "markdown",
   "metadata": {},
   "source": [
    "## Conclusion\n",
    "\n",
    "You can see here that as Usage increases, FantasyPoints generally increases as well."
   ]
  },
  {
   "cell_type": "code",
   "execution_count": null,
   "metadata": {},
   "outputs": [],
   "source": []
  },
  {
   "cell_type": "markdown",
   "metadata": {},
   "source": [
    "# Practice Python with Fantasy Football\n",
    "\n",
    "Part 7 (https://www.fantasyfootballdatapros.com/blog/beginner/7)\n",
    "\n",
    "Evaluating Usage vs Efficiency"
   ]
  },
  {
   "cell_type": "markdown",
   "metadata": {},
   "source": [
    "With our scatter plot, we were able to see that there is some sort of relationship between the two variables. What we want to do now is use Python to evaluate the strength of the relationship and see if we should rely on it going forward. If the relationship is indeed strong, then we can make what's called a linear regression model to predict Fantasy Points given a player's usage.\n",
    "\n",
    "Linear regression models are a type of machine learning model used to predict a continuous output based off some sort of linear relationship. \n",
    "\n",
    "Machine learning is the practice of building a model to use past data to predict future data. A machine learning model \"trains\" or \"learns\" on past data and builds a model. That model can then be used to predict \"out-of-sample\" inputs and predict some value.\n",
    "\n",
    "In Machine Learning (talking about supervised machine learning here), there are two types of models - those that deal with continuous outputs (For example, fantasy points, weight, stock price) which are classified as Regression models and those that deal with classification (For example, is an email spam or not spam is a classic classification problem).\n",
    "\n",
    "For most of our posts, we'll be working with regression models as we're here to predict Fantasy Points, a continuous output, although there are use cases for classification in Fantasy Football analysis. We'll start out with simple linear regression, the classic starting point for any ML beginner. A simple linear regression model works by predicting a continuous output using one input or \"feature\"."
   ]
  },
  {
   "cell_type": "code",
   "execution_count": 13,
   "metadata": {},
   "outputs": [
    {
     "data": {
      "text/html": [
       "<div>\n",
       "<style scoped>\n",
       "    .dataframe tbody tr th:only-of-type {\n",
       "        vertical-align: middle;\n",
       "    }\n",
       "\n",
       "    .dataframe tbody tr th {\n",
       "        vertical-align: top;\n",
       "    }\n",
       "\n",
       "    .dataframe thead th {\n",
       "        text-align: right;\n",
       "    }\n",
       "</style>\n",
       "<table border=\"1\" class=\"dataframe\">\n",
       "  <thead>\n",
       "    <tr style=\"text-align: right;\">\n",
       "      <th></th>\n",
       "      <th>Player</th>\n",
       "      <th>Tgt</th>\n",
       "      <th>RushingAtt</th>\n",
       "      <th>FantasyPoints</th>\n",
       "      <th>Usage</th>\n",
       "      <th>UsageRank</th>\n",
       "      <th>FantasyPointsRank</th>\n",
       "    </tr>\n",
       "  </thead>\n",
       "  <tbody>\n",
       "    <tr>\n",
       "      <th>0</th>\n",
       "      <td>Christian McCaffrey</td>\n",
       "      <td>142.0</td>\n",
       "      <td>287.0</td>\n",
       "      <td>469.2</td>\n",
       "      <td>429.0</td>\n",
       "      <td>1.0</td>\n",
       "      <td>1.0</td>\n",
       "    </tr>\n",
       "    <tr>\n",
       "      <th>2</th>\n",
       "      <td>Derrick Henry</td>\n",
       "      <td>24.0</td>\n",
       "      <td>303.0</td>\n",
       "      <td>294.6</td>\n",
       "      <td>327.0</td>\n",
       "      <td>5.0</td>\n",
       "      <td>5.0</td>\n",
       "    </tr>\n",
       "    <tr>\n",
       "      <th>3</th>\n",
       "      <td>Aaron Jones</td>\n",
       "      <td>68.0</td>\n",
       "      <td>236.0</td>\n",
       "      <td>314.8</td>\n",
       "      <td>304.0</td>\n",
       "      <td>10.0</td>\n",
       "      <td>2.0</td>\n",
       "    </tr>\n",
       "    <tr>\n",
       "      <th>4</th>\n",
       "      <td>Ezekiel Elliott</td>\n",
       "      <td>71.0</td>\n",
       "      <td>301.0</td>\n",
       "      <td>311.7</td>\n",
       "      <td>372.0</td>\n",
       "      <td>2.0</td>\n",
       "      <td>3.0</td>\n",
       "    </tr>\n",
       "    <tr>\n",
       "      <th>5</th>\n",
       "      <td>Dalvin Cook</td>\n",
       "      <td>63.0</td>\n",
       "      <td>250.0</td>\n",
       "      <td>292.4</td>\n",
       "      <td>313.0</td>\n",
       "      <td>9.0</td>\n",
       "      <td>6.0</td>\n",
       "    </tr>\n",
       "  </tbody>\n",
       "</table>\n",
       "</div>"
      ],
      "text/plain": [
       "                Player    Tgt  RushingAtt  FantasyPoints  Usage  UsageRank  \\\n",
       "0  Christian McCaffrey  142.0       287.0          469.2  429.0        1.0   \n",
       "2        Derrick Henry   24.0       303.0          294.6  327.0        5.0   \n",
       "3          Aaron Jones   68.0       236.0          314.8  304.0       10.0   \n",
       "4      Ezekiel Elliott   71.0       301.0          311.7  372.0        2.0   \n",
       "5          Dalvin Cook   63.0       250.0          292.4  313.0        9.0   \n",
       "\n",
       "   FantasyPointsRank  \n",
       "0                1.0  \n",
       "2                5.0  \n",
       "3                2.0  \n",
       "4                3.0  \n",
       "5                6.0  "
      ]
     },
     "execution_count": 13,
     "metadata": {},
     "output_type": "execute_result"
    }
   ],
   "source": [
    "df.head()"
   ]
  },
  {
   "cell_type": "markdown",
   "metadata": {},
   "source": [
    "What we want to do now is find the correlation coefficient between Usage and FantasyPoints per game that will allow us to objectively tell whether or not we should consider moving forward with a linear regression model.\n",
    "\n",
    "Two variables that are perfectly negatively correlated have a correlation coefficient of -1. One goes up, the other goes down, always.\n",
    "\n",
    "Two variables that have a correlation coefficient of 0 have no correlation whatsoever.\n",
    "\n",
    "With that said, let's import a new module known as numpy and import it as np. Numpy is short for \"Numerical Python\" and allows to work in arrays, which behave similarly to vectors in linear algebra."
   ]
  },
  {
   "cell_type": "code",
   "execution_count": 14,
   "metadata": {},
   "outputs": [],
   "source": [
    "import numpy as np\n",
    "def covariance(x, y):\n",
    "    n = len(x)\n",
    "    return sum((x - np.mean(x)) * (y - np.mean(y))) * 1/(n-1)"
   ]
  },
  {
   "cell_type": "markdown",
   "metadata": {},
   "source": [
    "Here we define a function that takes in an x and a y and returns the covariance of the two variables.\n",
    "\n",
    "We use the Python built-in function len to find the length of one of our arrays. (x and y need to be numpy arrays for this to work. Arrays are inherent to Numpy just as DataFrames are inherent to Pandas)."
   ]
  },
  {
   "cell_type": "code",
   "execution_count": 15,
   "metadata": {},
   "outputs": [
    {
     "data": {
      "text/plain": [
       "array([429., 327., 304., 372., 313., 347., 240., 231., 325., 290., 323.,\n",
       "       272., 365., 269., 242., 268., 264., 238., 272., 159., 323., 277.,\n",
       "       261., 267., 254., 217., 212., 234., 162., 189., 192., 167., 154.,\n",
       "       148., 145., 152., 141., 178., 133., 182., 135., 140., 149., 168.,\n",
       "       145., 182., 128., 103., 110., 106.,  87.,  81.,  76.,  87., 112.,\n",
       "        75.,  92., 123., 112.,  60.,  95.,  51.,  80.,  53.,  82.,  62.,\n",
       "        92.,  32.,  26.,  73.,  93.,  86.,  57.,  98.,  96.,  59.,  44.,\n",
       "        94.,  54.,  27.,  24.,  74.,  28.,  71.,  36.,  44.,  48.,  25.,\n",
       "        47.,  40.,  33.,  49.,  35.,  45.,  31.,  32.,  13.,  35.,  29.,\n",
       "        12.,  25.,  16.,  12.,  27.,   6.,  13.,  12.,  12.,  11.,  12.,\n",
       "         8.,   2.,  11.,  22.,   3.,  13.,  24.,   9.,  17.,   5.,  21.,\n",
       "        10.,  34.,  10.,  14.,  19.,  16.,  13.,  11.,  12.,   7.,   6.,\n",
       "         5.,   6.,   5.,   8.,   6.,   8.,   8.,   3.,   4.,   5.,   2.,\n",
       "         3.,   2.,   1.,   4.,   4.,   5.,   2.,   1.,   3.,   4.])"
      ]
     },
     "execution_count": 15,
     "metadata": {},
     "output_type": "execute_result"
    }
   ],
   "source": [
    "x = df['Usage'].values\n",
    "y = df['FantasyPoints'].values\n",
    "x"
   ]
  },
  {
   "cell_type": "markdown",
   "metadata": {},
   "source": [
    "By using the values attribute of our DataFrame column, we can get back the numpy array representation of our column. The function we defined above only works with numpy arrays. We set x = usage and y = FantasyPoints just as we did last time when we built the scatter plot."
   ]
  },
  {
   "cell_type": "code",
   "execution_count": 16,
   "metadata": {},
   "outputs": [
    {
     "data": {
      "text/plain": [
       "8788.312301341584"
      ]
     },
     "execution_count": 16,
     "metadata": {},
     "output_type": "execute_result"
    }
   ],
   "source": [
    "covariance(x, y)"
   ]
  },
  {
   "cell_type": "markdown",
   "metadata": {},
   "source": [
    "Correlation is actually a function of something else called covariance, which is not super helpful on it's own.\n",
    "\n",
    "The correlation between two variables is their covariance divided by the product of their standard deviations. We haven't gone over standard deviation, but we will eventually (it's pretty important for analyzing picks in Fantasy Football). So we'll just be using a built-in function from our friend numpy to write a very simple function.\n",
    "\n",
    "Numpy has a built-in function called std which will calculate the standard deviation of an array for us (It also has a cov function that calculates the covariance between two arrays that I kept from you guys) and so our corr function we write here is pretty simple. We use our function covariance we wrote earlier and then divide it by the product of the two standard deviations of the arrays."
   ]
  },
  {
   "cell_type": "code",
   "execution_count": 17,
   "metadata": {},
   "outputs": [
    {
     "data": {
      "text/plain": [
       "0.967330979222704"
      ]
     },
     "execution_count": 17,
     "metadata": {},
     "output_type": "execute_result"
    }
   ],
   "source": [
    "def corr(x, y):\n",
    "    return covariance(x, y)/(np.std(x) * np.std(y))\n",
    "\n",
    "corr(x, y)"
   ]
  },
  {
   "cell_type": "markdown",
   "metadata": {},
   "source": [
    "Conclusion\n",
    "\n",
    "This was a long post, but was necessary as all of this stuff is laying the foundation for building a linear regression model that will allow us to use usage to predict fantasy points. As you can see the correlation between usage and fantasy points is about 0.97 for this sample, which is really high, so we'll move forward with building a linear regression model."
   ]
  },
  {
   "cell_type": "markdown",
   "metadata": {},
   "source": [
    "## Test Code\n",
    "\n",
    "Is there a strong correllation between usage and fantasy points for QBs?"
   ]
  },
  {
   "cell_type": "code",
   "execution_count": 18,
   "metadata": {},
   "outputs": [
    {
     "data": {
      "text/html": [
       "<div>\n",
       "<style scoped>\n",
       "    .dataframe tbody tr th:only-of-type {\n",
       "        vertical-align: middle;\n",
       "    }\n",
       "\n",
       "    .dataframe tbody tr th {\n",
       "        vertical-align: top;\n",
       "    }\n",
       "\n",
       "    .dataframe thead th {\n",
       "        text-align: right;\n",
       "    }\n",
       "</style>\n",
       "<table border=\"1\" class=\"dataframe\">\n",
       "  <thead>\n",
       "    <tr style=\"text-align: right;\">\n",
       "      <th></th>\n",
       "      <th>Unnamed: 0</th>\n",
       "      <th>Player</th>\n",
       "      <th>Tm</th>\n",
       "      <th>Pos</th>\n",
       "      <th>Age</th>\n",
       "      <th>G</th>\n",
       "      <th>GS</th>\n",
       "      <th>Cmp</th>\n",
       "      <th>Att</th>\n",
       "      <th>Yds</th>\n",
       "      <th>...</th>\n",
       "      <th>FumblesLost</th>\n",
       "      <th>PassingYds</th>\n",
       "      <th>PassingTD</th>\n",
       "      <th>PassingAtt</th>\n",
       "      <th>RushingYds</th>\n",
       "      <th>RushingTD</th>\n",
       "      <th>RushingAtt</th>\n",
       "      <th>ReceivingYds</th>\n",
       "      <th>ReceivingTD</th>\n",
       "      <th>FantasyPoints</th>\n",
       "    </tr>\n",
       "  </thead>\n",
       "  <tbody>\n",
       "    <tr>\n",
       "      <th>0</th>\n",
       "      <td>0</td>\n",
       "      <td>Christian McCaffrey</td>\n",
       "      <td>CAR</td>\n",
       "      <td>RB</td>\n",
       "      <td>23.0</td>\n",
       "      <td>16.0</td>\n",
       "      <td>16.0</td>\n",
       "      <td>0.0</td>\n",
       "      <td>2.0</td>\n",
       "      <td>0.0</td>\n",
       "      <td>...</td>\n",
       "      <td>0.0</td>\n",
       "      <td>0.0</td>\n",
       "      <td>0.0</td>\n",
       "      <td>2.0</td>\n",
       "      <td>1387.0</td>\n",
       "      <td>15.0</td>\n",
       "      <td>287.0</td>\n",
       "      <td>1005.0</td>\n",
       "      <td>4.0</td>\n",
       "      <td>469.20</td>\n",
       "    </tr>\n",
       "    <tr>\n",
       "      <th>1</th>\n",
       "      <td>1</td>\n",
       "      <td>Lamar Jackson</td>\n",
       "      <td>BAL</td>\n",
       "      <td>QB</td>\n",
       "      <td>22.0</td>\n",
       "      <td>15.0</td>\n",
       "      <td>15.0</td>\n",
       "      <td>265.0</td>\n",
       "      <td>401.0</td>\n",
       "      <td>3127.0</td>\n",
       "      <td>...</td>\n",
       "      <td>2.0</td>\n",
       "      <td>3127.0</td>\n",
       "      <td>36.0</td>\n",
       "      <td>401.0</td>\n",
       "      <td>1206.0</td>\n",
       "      <td>7.0</td>\n",
       "      <td>176.0</td>\n",
       "      <td>0.0</td>\n",
       "      <td>0.0</td>\n",
       "      <td>415.68</td>\n",
       "    </tr>\n",
       "    <tr>\n",
       "      <th>2</th>\n",
       "      <td>2</td>\n",
       "      <td>Derrick Henry</td>\n",
       "      <td>TEN</td>\n",
       "      <td>RB</td>\n",
       "      <td>25.0</td>\n",
       "      <td>15.0</td>\n",
       "      <td>15.0</td>\n",
       "      <td>0.0</td>\n",
       "      <td>0.0</td>\n",
       "      <td>0.0</td>\n",
       "      <td>...</td>\n",
       "      <td>3.0</td>\n",
       "      <td>0.0</td>\n",
       "      <td>0.0</td>\n",
       "      <td>0.0</td>\n",
       "      <td>1540.0</td>\n",
       "      <td>16.0</td>\n",
       "      <td>303.0</td>\n",
       "      <td>206.0</td>\n",
       "      <td>2.0</td>\n",
       "      <td>294.60</td>\n",
       "    </tr>\n",
       "    <tr>\n",
       "      <th>3</th>\n",
       "      <td>3</td>\n",
       "      <td>Aaron Jones</td>\n",
       "      <td>GNB</td>\n",
       "      <td>RB</td>\n",
       "      <td>25.0</td>\n",
       "      <td>16.0</td>\n",
       "      <td>16.0</td>\n",
       "      <td>0.0</td>\n",
       "      <td>0.0</td>\n",
       "      <td>0.0</td>\n",
       "      <td>...</td>\n",
       "      <td>2.0</td>\n",
       "      <td>0.0</td>\n",
       "      <td>0.0</td>\n",
       "      <td>0.0</td>\n",
       "      <td>1084.0</td>\n",
       "      <td>16.0</td>\n",
       "      <td>236.0</td>\n",
       "      <td>474.0</td>\n",
       "      <td>3.0</td>\n",
       "      <td>314.80</td>\n",
       "    </tr>\n",
       "    <tr>\n",
       "      <th>4</th>\n",
       "      <td>4</td>\n",
       "      <td>Ezekiel Elliott</td>\n",
       "      <td>DAL</td>\n",
       "      <td>RB</td>\n",
       "      <td>24.0</td>\n",
       "      <td>16.0</td>\n",
       "      <td>16.0</td>\n",
       "      <td>0.0</td>\n",
       "      <td>0.0</td>\n",
       "      <td>0.0</td>\n",
       "      <td>...</td>\n",
       "      <td>2.0</td>\n",
       "      <td>0.0</td>\n",
       "      <td>0.0</td>\n",
       "      <td>0.0</td>\n",
       "      <td>1357.0</td>\n",
       "      <td>12.0</td>\n",
       "      <td>301.0</td>\n",
       "      <td>420.0</td>\n",
       "      <td>2.0</td>\n",
       "      <td>311.70</td>\n",
       "    </tr>\n",
       "  </tbody>\n",
       "</table>\n",
       "<p>5 rows × 28 columns</p>\n",
       "</div>"
      ],
      "text/plain": [
       "   Unnamed: 0               Player   Tm Pos   Age     G    GS    Cmp    Att  \\\n",
       "0           0  Christian McCaffrey  CAR  RB  23.0  16.0  16.0    0.0    2.0   \n",
       "1           1        Lamar Jackson  BAL  QB  22.0  15.0  15.0  265.0  401.0   \n",
       "2           2        Derrick Henry  TEN  RB  25.0  15.0  15.0    0.0    0.0   \n",
       "3           3          Aaron Jones  GNB  RB  25.0  16.0  16.0    0.0    0.0   \n",
       "4           4      Ezekiel Elliott  DAL  RB  24.0  16.0  16.0    0.0    0.0   \n",
       "\n",
       "      Yds  ...  FumblesLost  PassingYds  PassingTD  PassingAtt  RushingYds  \\\n",
       "0     0.0  ...          0.0         0.0        0.0         2.0      1387.0   \n",
       "1  3127.0  ...          2.0      3127.0       36.0       401.0      1206.0   \n",
       "2     0.0  ...          3.0         0.0        0.0         0.0      1540.0   \n",
       "3     0.0  ...          2.0         0.0        0.0         0.0      1084.0   \n",
       "4     0.0  ...          2.0         0.0        0.0         0.0      1357.0   \n",
       "\n",
       "   RushingTD  RushingAtt  ReceivingYds  ReceivingTD  FantasyPoints  \n",
       "0       15.0       287.0        1005.0          4.0         469.20  \n",
       "1        7.0       176.0           0.0          0.0         415.68  \n",
       "2       16.0       303.0         206.0          2.0         294.60  \n",
       "3       16.0       236.0         474.0          3.0         314.80  \n",
       "4       12.0       301.0         420.0          2.0         311.70  \n",
       "\n",
       "[5 rows x 28 columns]"
      ]
     },
     "execution_count": 18,
     "metadata": {},
     "output_type": "execute_result"
    }
   ],
   "source": [
    "#Create QB Dataframe\n",
    "qbdf = pd.read_csv(csv_path)\n",
    "qbdf.head()"
   ]
  },
  {
   "cell_type": "code",
   "execution_count": 19,
   "metadata": {},
   "outputs": [
    {
     "name": "stdout",
     "output_type": "stream",
     "text": [
      "(620, 28)\n"
     ]
    },
    {
     "data": {
      "text/plain": [
       "Index(['Unnamed: 0', 'Player', 'Tm', 'Pos', 'Age', 'G', 'GS', 'Cmp', 'Att',\n",
       "       'Yds', 'Int', 'Att.1', 'Yds.1', 'Tgt', 'Rec', 'Yds.2', 'Y/R', 'Fumbles',\n",
       "       'FumblesLost', 'PassingYds', 'PassingTD', 'PassingAtt', 'RushingYds',\n",
       "       'RushingTD', 'RushingAtt', 'ReceivingYds', 'ReceivingTD',\n",
       "       'FantasyPoints'],\n",
       "      dtype='object')"
      ]
     },
     "execution_count": 19,
     "metadata": {},
     "output_type": "execute_result"
    }
   ],
   "source": [
    "#Get QBDF Info\n",
    "print(qbdf.shape)\n",
    "qbdf.columns"
   ]
  },
  {
   "cell_type": "code",
   "execution_count": 20,
   "metadata": {},
   "outputs": [],
   "source": [
    "#Define QB \"Usage\" and Define Columns \n",
    "qbdf = qbdf.loc[qbdf['Pos'] == 'QB', ['Player', 'PassingAtt', 'RushingAtt', 'FantasyPoints']]\n",
    "qbdf['Usage'] = qbdf['PassingAtt'] + qbdf['RushingAtt']"
   ]
  },
  {
   "cell_type": "code",
   "execution_count": 21,
   "metadata": {},
   "outputs": [
    {
     "data": {
      "text/html": [
       "<div>\n",
       "<style scoped>\n",
       "    .dataframe tbody tr th:only-of-type {\n",
       "        vertical-align: middle;\n",
       "    }\n",
       "\n",
       "    .dataframe tbody tr th {\n",
       "        vertical-align: top;\n",
       "    }\n",
       "\n",
       "    .dataframe thead th {\n",
       "        text-align: right;\n",
       "    }\n",
       "</style>\n",
       "<table border=\"1\" class=\"dataframe\">\n",
       "  <thead>\n",
       "    <tr style=\"text-align: right;\">\n",
       "      <th></th>\n",
       "      <th>Player</th>\n",
       "      <th>PassingAtt</th>\n",
       "      <th>RushingAtt</th>\n",
       "      <th>FantasyPoints</th>\n",
       "      <th>Usage</th>\n",
       "    </tr>\n",
       "  </thead>\n",
       "  <tbody>\n",
       "    <tr>\n",
       "      <th>1</th>\n",
       "      <td>Lamar Jackson</td>\n",
       "      <td>401.0</td>\n",
       "      <td>176.0</td>\n",
       "      <td>415.68</td>\n",
       "      <td>577.0</td>\n",
       "    </tr>\n",
       "    <tr>\n",
       "      <th>11</th>\n",
       "      <td>Dak Prescott</td>\n",
       "      <td>596.0</td>\n",
       "      <td>52.0</td>\n",
       "      <td>335.78</td>\n",
       "      <td>648.0</td>\n",
       "    </tr>\n",
       "    <tr>\n",
       "      <th>13</th>\n",
       "      <td>Russell Wilson</td>\n",
       "      <td>516.0</td>\n",
       "      <td>75.0</td>\n",
       "      <td>326.60</td>\n",
       "      <td>591.0</td>\n",
       "    </tr>\n",
       "    <tr>\n",
       "      <th>16</th>\n",
       "      <td>Deshaun Watson</td>\n",
       "      <td>495.0</td>\n",
       "      <td>82.0</td>\n",
       "      <td>318.98</td>\n",
       "      <td>577.0</td>\n",
       "    </tr>\n",
       "    <tr>\n",
       "      <th>29</th>\n",
       "      <td>Jameis Winston</td>\n",
       "      <td>626.0</td>\n",
       "      <td>59.0</td>\n",
       "      <td>297.36</td>\n",
       "      <td>685.0</td>\n",
       "    </tr>\n",
       "  </tbody>\n",
       "</table>\n",
       "</div>"
      ],
      "text/plain": [
       "            Player  PassingAtt  RushingAtt  FantasyPoints  Usage\n",
       "1    Lamar Jackson       401.0       176.0         415.68  577.0\n",
       "11    Dak Prescott       596.0        52.0         335.78  648.0\n",
       "13  Russell Wilson       516.0        75.0         326.60  591.0\n",
       "16  Deshaun Watson       495.0        82.0         318.98  577.0\n",
       "29  Jameis Winston       626.0        59.0         297.36  685.0"
      ]
     },
     "execution_count": 21,
     "metadata": {},
     "output_type": "execute_result"
    }
   ],
   "source": [
    "qbdf.head()"
   ]
  },
  {
   "cell_type": "code",
   "execution_count": 22,
   "metadata": {},
   "outputs": [
    {
     "data": {
      "text/plain": [
       "<matplotlib.axes._subplots.AxesSubplot at 0x119c88a30>"
      ]
     },
     "execution_count": 22,
     "metadata": {},
     "output_type": "execute_result"
    },
    {
     "data": {
      "image/png": "[encoded data removed]",
      "text/plain": [
       "<Figure size 432x288 with 1 Axes>"
      ]
     },
     "metadata": {},
     "output_type": "display_data"
    }
   ],
   "source": [
    "#Visualise Data\n",
    "plt.style.use('ggplot')\n",
    "\n",
    "qbdf.plot(x='Usage', y='FantasyPoints', kind='scatter')"
   ]
  },
  {
   "cell_type": "code",
   "execution_count": 23,
   "metadata": {},
   "outputs": [],
   "source": [
    "def covariance(x, y):\n",
    "    n = len(x)\n",
    "    return sum((x - np.mean(x)) * (y - np.mean(y))) * 1/(n-1)"
   ]
  },
  {
   "cell_type": "code",
   "execution_count": 24,
   "metadata": {},
   "outputs": [
    {
     "data": {
      "text/plain": [
       "array([577., 648., 591., 577., 685., 570., 527., 635., 615., 669., 650.,\n",
       "       639., 659., 522., 540., 475., 556., 603., 562., 537., 387., 329.,\n",
       "       503., 504., 560., 564., 474., 521., 311., 304., 256., 224., 274.,\n",
       "       184.,  33., 223., 174., 127., 182., 151., 181.,  96., 121.,  94.,\n",
       "        70.,  70.,  97.,  73., 112.,  42.,  94.,  58.,  63.,  73.,  53.,\n",
       "        18.,  16.,  12.,  29.,  59.,   8.,   7.,   9.,   6.,   1.,   3.,\n",
       "         6.,   1.,   4.,  27.,   6.])"
      ]
     },
     "execution_count": 24,
     "metadata": {},
     "output_type": "execute_result"
    }
   ],
   "source": [
    "x = qbdf['Usage'].values\n",
    "y = qbdf['FantasyPoints'].values\n",
    "x"
   ]
  },
  {
   "cell_type": "code",
   "execution_count": 25,
   "metadata": {},
   "outputs": [
    {
     "data": {
      "text/plain": [
       "27800.731545271636"
      ]
     },
     "execution_count": 25,
     "metadata": {},
     "output_type": "execute_result"
    }
   ],
   "source": [
    "covariance(x, y)"
   ]
  },
  {
   "cell_type": "code",
   "execution_count": 26,
   "metadata": {},
   "outputs": [
    {
     "data": {
      "text/plain": [
       "0.9717358607824712"
      ]
     },
     "execution_count": 26,
     "metadata": {},
     "output_type": "execute_result"
    }
   ],
   "source": [
    "def corr(x, y):\n",
    "    return covariance(x, y)/(np.std(x) * np.std(y))\n",
    "\n",
    "corr(x, y)"
   ]
  },
  {
   "cell_type": "markdown",
   "metadata": {},
   "source": [
    "## Conclusion\n",
    "\n",
    "As with RBs the correlation between QB usage and fantasy points is about 0.97, which is again really high, so we would move forward with building a linear regression model."
   ]
  },
  {
   "cell_type": "code",
   "execution_count": null,
   "metadata": {},
   "outputs": [],
   "source": []
  },
  {
   "cell_type": "markdown",
   "metadata": {},
   "source": [
    "# Practice Python with Fantasy Football\n",
    "\n",
    "Part 8 (https://www.fantasyfootballdatapros.com/blog/beginner/8)\n",
    "\n",
    "The Basics of Machine Learning"
   ]
  },
  {
   "cell_type": "markdown",
   "metadata": {},
   "source": [
    "Linear Regression is a machine learning algorithm.\n",
    "\n",
    "Machine Learning algorithms are classified in to two categories - those that \"train\" or learn with data that is labeled, and those that don't. The former is known as supervised machine learning, and the latter is known as unsupervised machine learning.\n",
    "\n",
    "For the purpose of this series, we are going to focus on supervised machine learning for now. Supervised machine learning algorithms can be categorized further - in to regression algorithms and classification algorithms. Regression algorithms, what we'll be focusing on right now, are used to predict a continuous output - outputs that can span an interval. Weight, stock prices, and Fantasy Football points are all continuous outputs and thus can be predicted using Regression algorithms.\n",
    "\n",
    "The first thing we need to do before using SLR to predict Fantasy Points is train the algorithm. Basically, we split our data in to training data and testing data. We'll use a function to do this in the code. We then take the training data and feed it to the algorithm. Once the function is trained, we'll then give it testing data. It will take the testing data and use it to predict Fantasy Football points. From there, we then evaluate how the predicted values faired with actual values and calculate something called root mean squared error - which tells us how our model did. This will be reserved for future parts of this series."
   ]
  },
  {
   "cell_type": "code",
   "execution_count": 27,
   "metadata": {},
   "outputs": [
    {
     "data": {
      "text/html": [
       "<div>\n",
       "<style scoped>\n",
       "    .dataframe tbody tr th:only-of-type {\n",
       "        vertical-align: middle;\n",
       "    }\n",
       "\n",
       "    .dataframe tbody tr th {\n",
       "        vertical-align: top;\n",
       "    }\n",
       "\n",
       "    .dataframe thead th {\n",
       "        text-align: right;\n",
       "    }\n",
       "</style>\n",
       "<table border=\"1\" class=\"dataframe\">\n",
       "  <thead>\n",
       "    <tr style=\"text-align: right;\">\n",
       "      <th></th>\n",
       "      <th>Player</th>\n",
       "      <th>Tgt</th>\n",
       "      <th>RushingAtt</th>\n",
       "      <th>FantasyPoints</th>\n",
       "      <th>Usage</th>\n",
       "      <th>UsageRank</th>\n",
       "      <th>FantasyPointsRank</th>\n",
       "    </tr>\n",
       "  </thead>\n",
       "  <tbody>\n",
       "    <tr>\n",
       "      <th>0</th>\n",
       "      <td>Christian McCaffrey</td>\n",
       "      <td>142.0</td>\n",
       "      <td>287.0</td>\n",
       "      <td>469.2</td>\n",
       "      <td>429.0</td>\n",
       "      <td>1.0</td>\n",
       "      <td>1.0</td>\n",
       "    </tr>\n",
       "    <tr>\n",
       "      <th>4</th>\n",
       "      <td>Ezekiel Elliott</td>\n",
       "      <td>71.0</td>\n",
       "      <td>301.0</td>\n",
       "      <td>311.7</td>\n",
       "      <td>372.0</td>\n",
       "      <td>2.0</td>\n",
       "      <td>3.0</td>\n",
       "    </tr>\n",
       "    <tr>\n",
       "      <th>28</th>\n",
       "      <td>Leonard Fournette</td>\n",
       "      <td>100.0</td>\n",
       "      <td>265.0</td>\n",
       "      <td>259.4</td>\n",
       "      <td>365.0</td>\n",
       "      <td>3.0</td>\n",
       "      <td>7.0</td>\n",
       "    </tr>\n",
       "    <tr>\n",
       "      <th>8</th>\n",
       "      <td>Nick Chubb</td>\n",
       "      <td>49.0</td>\n",
       "      <td>298.0</td>\n",
       "      <td>255.2</td>\n",
       "      <td>347.0</td>\n",
       "      <td>4.0</td>\n",
       "      <td>8.0</td>\n",
       "    </tr>\n",
       "    <tr>\n",
       "      <th>2</th>\n",
       "      <td>Derrick Henry</td>\n",
       "      <td>24.0</td>\n",
       "      <td>303.0</td>\n",
       "      <td>294.6</td>\n",
       "      <td>327.0</td>\n",
       "      <td>5.0</td>\n",
       "      <td>5.0</td>\n",
       "    </tr>\n",
       "  </tbody>\n",
       "</table>\n",
       "</div>"
      ],
      "text/plain": [
       "                 Player    Tgt  RushingAtt  FantasyPoints  Usage  UsageRank  \\\n",
       "0   Christian McCaffrey  142.0       287.0          469.2  429.0        1.0   \n",
       "4       Ezekiel Elliott   71.0       301.0          311.7  372.0        2.0   \n",
       "28    Leonard Fournette  100.0       265.0          259.4  365.0        3.0   \n",
       "8            Nick Chubb   49.0       298.0          255.2  347.0        4.0   \n",
       "2         Derrick Henry   24.0       303.0          294.6  327.0        5.0   \n",
       "\n",
       "    FantasyPointsRank  \n",
       "0                 1.0  \n",
       "4                 3.0  \n",
       "28                7.0  \n",
       "8                 8.0  \n",
       "2                 5.0  "
      ]
     },
     "execution_count": 27,
     "metadata": {},
     "output_type": "execute_result"
    }
   ],
   "source": [
    "#View RB Rankings\n",
    "df.sort_values(by='UsageRank').head()"
   ]
  },
  {
   "cell_type": "markdown",
   "metadata": {},
   "source": [
    "What we want to do is use Usage to predict FantasyPoints. What we need to do first, though, is to separate the training and testing data we are going to be using to train the algorithm and test it. This is very important. It's not good to test the model on the same data you used to train it. This is because you want to test the model on data it has not seen before, to do otherwise would be known as a \"data-leakage\" issue."
   ]
  },
  {
   "cell_type": "code",
   "execution_count": 28,
   "metadata": {},
   "outputs": [],
   "source": [
    "#Import Function to Split Data and Set Variables (x,y)\n",
    "from sklearn.model_selection import train_test_split\n",
    "X = df['Usage'].values\n",
    "Y = df['FantasyPoints'].values\n",
    "x_train, x_test, y_train, y_test = train_test_split(X, Y, test_size=0.2)"
   ]
  },
  {
   "cell_type": "markdown",
   "metadata": {},
   "source": [
    "Usage is our X as it's our independent or explanatory variable. It is being used here to explain Fantasy Football performance.\n",
    "\n",
    "Y is set to be our FantasyPoints column as it's what's being explained or predicted by our model.\n",
    "\n",
    "By default, train_test_split needs a numpy array as arguments to it's function. The way we do this in Pandas is by tacking on .values at the end there. Pandas then takes our DataFrame column (or Series) and converts it to a numpy array.\n",
    "\n",
    "From there, we input it in to our little function, and we also set test_size=0.2. We are telling sklearn here that we'd like to save 20% of our data for testing. The remaining 80% will be used to train the algorithm."
   ]
  },
  {
   "cell_type": "code",
   "execution_count": 29,
   "metadata": {},
   "outputs": [
    {
     "data": {
      "text/plain": [
       "array([  4.,  54.,  60.,  25.,  59.,  33.,  13.,  34.,  71., 133., 240.,\n",
       "       272.,  12.,   8.,  47.,   2.,  35.,   8., 231.,  11.])"
      ]
     },
     "execution_count": 29,
     "metadata": {},
     "output_type": "execute_result"
    }
   ],
   "source": [
    "x_train[:20]"
   ]
  },
  {
   "cell_type": "code",
   "execution_count": 31,
   "metadata": {},
   "outputs": [
    {
     "data": {
      "text/plain": [
       "array([ 14.1,  51.8,  94.9,  60.2,   4.1,   5.7, 114.5,  23.5, 142.2,\n",
       "         1.8, 213. ,   3.7,  18.1, 191.6,  20. , 145.5,   0.9, 259.4,\n",
       "        66.2, 232.6])"
      ]
     },
     "execution_count": 31,
     "metadata": {},
     "output_type": "execute_result"
    }
   ],
   "source": [
    "y_test[:20]"
   ]
  },
  {
   "cell_type": "markdown",
   "metadata": {},
   "source": [
    "I just outputed our x_train and y_test values to make sure everything looked good. I used list indexing notation to output the first 20 values of each array - ([:20] means grab everything up to the 20th item in the array/list)."
   ]
  },
  {
   "cell_type": "code",
   "execution_count": null,
   "metadata": {},
   "outputs": [],
   "source": []
  }
 ],
 "metadata": {
  "kernelspec": {
   "display_name": "Python 3",
   "language": "python",
   "name": "python3"
  },
  "language_info": {
   "codemirror_mode": {
    "name": "ipython",
    "version": 3
   },
   "file_extension": ".py",
   "mimetype": "text/x-python",
   "name": "python",
   "nbconvert_exporter": "python",
   "pygments_lexer": "ipython3",
   "version": "3.8.3"
  }
 },
 "nbformat": 4,
 "nbformat_minor": 4
}
